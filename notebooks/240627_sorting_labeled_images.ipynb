{
 "cells": [
  {
   "cell_type": "markdown",
   "metadata": {},
   "source": [
    "# Combining the labeled Cytpix and Imagestream data into one dataset"
   ]
  },
  {
   "cell_type": "markdown",
   "metadata": {},
   "source": [
    "## 27-06-2024"
   ]
  },
  {
   "cell_type": "code",
   "execution_count": 1,
   "metadata": {},
   "outputs": [],
   "source": [
    "import cv2\n",
    "import json\n",
    "import os\n",
    "\n",
    "\n",
    "import numpy as np\n",
    "import pandas as pd"
   ]
  },
  {
   "cell_type": "code",
   "execution_count": 2,
   "metadata": {},
   "outputs": [],
   "source": [
    "import matplotlib.pyplot as plt\n",
    "import seaborn as sns\n",
    "\n",
    "plt.rc(\"font\", size=14)\n",
    "plt.rc(\"axes\", labelsize=14, titlesize=14)\n",
    "plt.rc(\"legend\", fontsize=14)\n",
    "plt.rc(\"xtick\", labelsize=10)\n",
    "plt.rc(\"ytick\", labelsize=10)"
   ]
  },
  {
   "cell_type": "code",
   "execution_count": 4,
   "metadata": {},
   "outputs": [],
   "source": [
    "f = open(\n",
    "    \"/home/t.afanasyeva/deep_learning_anaemias/resources/annotations/240627_23-714262.json\"\n",
    ")\n",
    "annotations = json.load(f)"
   ]
  },
  {
   "cell_type": "code",
   "execution_count": 5,
   "metadata": {},
   "outputs": [
    {
     "data": {
      "text/plain": [
       "[{'id': 1, 'name': 'discocyte', 'supercategory': ''},\n",
       " {'id': 2, 'name': 'holly_leaf', 'supercategory': ''},\n",
       " {'id': 3, 'name': 'granular', 'supercategory': ''},\n",
       " {'id': 4, 'name': 'sickle', 'supercategory': ''},\n",
       " {'id': 5, 'name': 'echinocyte', 'supercategory': ''}]"
      ]
     },
     "execution_count": 5,
     "metadata": {},
     "output_type": "execute_result"
    }
   ],
   "source": [
    "annotations[\"categories\"]"
   ]
  },
  {
   "cell_type": "markdown",
   "metadata": {},
   "source": [
    "only entries up to 2053 have been checked twice"
   ]
  },
  {
   "cell_type": "code",
   "execution_count": 6,
   "metadata": {},
   "outputs": [],
   "source": [
    "ground_truth = annotations[\"annotations\"][:2053]"
   ]
  },
  {
   "cell_type": "code",
   "execution_count": 7,
   "metadata": {},
   "outputs": [
    {
     "data": {
      "text/plain": [
       "{'id': 1,\n",
       " 'width': 64,\n",
       " 'height': 64,\n",
       " 'file_name': '0000198e5271d6317b88554bb42519a3.png',\n",
       " 'license': 0,\n",
       " 'flickr_url': '',\n",
       " 'coco_url': '',\n",
       " 'date_captured': 0}"
      ]
     },
     "execution_count": 7,
     "metadata": {},
     "output_type": "execute_result"
    }
   ],
   "source": [
    "image_ids = [record[\"image_id\"] for record in ground_truth]\n",
    "labels_tuples = [(record[\"image_id\"], record[\"category_id\"]) for record in ground_truth]\n",
    "images = annotations[\"images\"]\n",
    "images[0]"
   ]
  },
  {
   "cell_type": "code",
   "execution_count": 8,
   "metadata": {},
   "outputs": [],
   "source": [
    "file_names_tuples = [\n",
    "    (record[\"id\"], record[\"file_name\"])\n",
    "    for record in images\n",
    "    if record[\"id\"] in image_ids\n",
    "]\n",
    "\n",
    "file_name_labels_dict = {}\n",
    "for file_name in file_names_tuples:\n",
    "    for label in labels_tuples:\n",
    "        if file_name[0] == label[0]:\n",
    "            file_name_labels_dict[file_name[1]] = label[1]"
   ]
  },
  {
   "cell_type": "code",
   "execution_count": 9,
   "metadata": {},
   "outputs": [
    {
     "data": {
      "text/plain": [
       "[{'id': 1, 'name': 'discocyte', 'supercategory': ''},\n",
       " {'id': 2, 'name': 'holly_leaf', 'supercategory': ''},\n",
       " {'id': 3, 'name': 'granular', 'supercategory': ''},\n",
       " {'id': 4, 'name': 'sickle', 'supercategory': ''},\n",
       " {'id': 5, 'name': 'echinocyte', 'supercategory': ''}]"
      ]
     },
     "execution_count": 9,
     "metadata": {},
     "output_type": "execute_result"
    }
   ],
   "source": [
    "annotations[\"categories\"]"
   ]
  },
  {
   "cell_type": "code",
   "execution_count": 10,
   "metadata": {},
   "outputs": [
    {
     "data": {
      "text/plain": [
       "[(1, 'discocyte'),\n",
       " (2, 'holly_leaf'),\n",
       " (3, 'granular'),\n",
       " (4, 'sickle'),\n",
       " (5, 'echinocyte')]"
      ]
     },
     "execution_count": 10,
     "metadata": {},
     "output_type": "execute_result"
    }
   ],
   "source": [
    "maping_list = [(record[\"id\"], record[\"name\"]) for record in annotations[\"categories\"]]\n",
    "maping_list"
   ]
  },
  {
   "cell_type": "code",
   "execution_count": 11,
   "metadata": {},
   "outputs": [],
   "source": [
    "for key, value in file_name_labels_dict.items():\n",
    "    for my_tuple in maping_list:\n",
    "        if value == my_tuple[0]:\n",
    "            file_name_labels_dict[key] = my_tuple[1]"
   ]
  },
  {
   "cell_type": "code",
   "execution_count": 12,
   "metadata": {},
   "outputs": [],
   "source": [
    "label_df = pd.DataFrame.from_dict(\n",
    "    file_name_labels_dict, orient=\"index\", columns=[\"class\"]\n",
    ")"
   ]
  },
  {
   "cell_type": "code",
   "execution_count": 15,
   "metadata": {},
   "outputs": [
    {
     "data": {
      "text/plain": [
       "<Axes: >"
      ]
     },
     "execution_count": 15,
     "metadata": {},
     "output_type": "execute_result"
    },
    {
     "data": {
      "image/png": "[encoded data removed]",
      "text/plain": [
       "<Figure size 640x480 with 1 Axes>"
      ]
     },
     "metadata": {},
     "output_type": "display_data"
    }
   ],
   "source": [
    "unique, counts = np.unique(y, return_counts=True)\n",
    "sns.barplot(y=counts, x=unique)"
   ]
  },
  {
   "cell_type": "code",
   "execution_count": 16,
   "metadata": {},
   "outputs": [],
   "source": [
    "path = \"/home/t.afanasyeva/deep_learning_anaemias/resources/cytpix/23-714262\""
   ]
  },
  {
   "cell_type": "code",
   "execution_count": 17,
   "metadata": {},
   "outputs": [],
   "source": [
    "my_list = [\"echinocyte\", \"granular\", \"holly_leaf\", \"sickle\"]\n",
    "root_path = \"/home/t.afanasyeva/deep_learning_anaemias/resources/training\"\n",
    "for items in my_list:\n",
    "    path = os.path.join(root_path, items)\n",
    "    os.mkdir(path)"
   ]
  },
  {
   "cell_type": "code",
   "execution_count": 18,
   "metadata": {},
   "outputs": [],
   "source": [
    "for img_path in list(label_df.index):\n",
    "    print(\"******\")\n",
    "    print(os.path.join(path, img_path))\n",
    "    print(label_df.loc[img_path][\"class\"])\n",
    "    img = cv2.imread(os.path.join(path, img_path), cv2.IMREAD_GRAYSCALE)\n",
    "    output_path = os.path.join(root_path, label_df.loc[img_path][\"class\"], img_path)\n",
    "    print(output_path)\n",
    "    cv2.imwrite(output_path, img)"
   ]
  }
 ],
 "metadata": {
  "kernelspec": {
   "display_name": "Python 3",
   "language": "python",
   "name": "python3"
  },
  "language_info": {
   "codemirror_mode": {
    "name": "ipython",
    "version": 3
   },
   "file_extension": ".py",
   "mimetype": "text/x-python",
   "name": "python",
   "nbconvert_exporter": "python",
   "pygments_lexer": "ipython3",
   "version": "3.12.3"
  }
 },
 "nbformat": 4,
 "nbformat_minor": 2
}
